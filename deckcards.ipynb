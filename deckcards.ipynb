{
 "cells": [
  {
   "cell_type": "markdown",
   "id": "ca804da0",
   "metadata": {},
   "source": [
    "1. Dunder Methods : \"\\_\\_add\\_\\_\" helps to add (or use operator +) between Class Objects , but we need to override in the User Defined Class similarly for \"\\_\\_len\\_\\_\" helps to determine length using len() function.\n",
    "\n",
    "2. \"\\_\\_getitem\\_\\_\" is an important item which is used as iterable for an Object of an user defined Class, example below Deck of Cards, we can use \"[]\" similar to like List index. \n",
    "\n",
    "3. go through namedtuple , it accepts \"typename\" (string) as first parameter which will returning the same name Subclass \n",
    "example: Card = namedtuple(\"Card\",[\"rank\",\"suit\"])  \n",
    "\n",
    "4. once we use \\_\\_getitem\\_\\_ , we can do sorting , finding a specific element BUT we can't do use \"Shuffle\" of \"random\" because Shuffle takes Object and it does not support \"in place\" shuffling.\n",
    "\n",
    "\n",
    "The shuffle() method takes a sequence, like a list, and reorganize the order of the items. Note: This method changes the original list, it does not return a new list. in Decks example random.shuffle(FrenchDeck) will not work since Class Object is \"immutable\" so in-place shuffling is not possible. (more explanation is given below)\n",
    "\n",
    "Reason why Shuffle will not work, Refer the source code below for random.shuffle() , in below x[i],x[j] are swapped , so assignment happens. so when FrenchDeck() class/instance \"_deck\" is created then _deck[i] is assigned _deck[j] , But Python does not know how to assign since Class does not have __setitem__ method which will set an item to _deck[i] value on other side \\_\\_getitem\\_\\_ does only read the contents of _deck[i] so there is no issue of returning the value. \n",
    "\n",
    "def shuffle(self, x):\n",
    "        \"\"\"Shuffle list x in place, and return None.\"\"\"\n",
    "\n",
    "        randbelow = self._randbelow\n",
    "        for i in reversed(range(1, len(x))):\n",
    "            # pick an element in x[:i+1] with which to exchange x[i]\n",
    "            j = randbelow(i + 1)\n",
    "            x[i], x[j] = x[j], x[i]"
   ]
  },
  {
   "cell_type": "code",
   "execution_count": 1,
   "id": "da6c8b33",
   "metadata": {},
   "outputs": [],
   "source": [
    "from collections import namedtuple\n",
    "import random"
   ]
  },
  {
   "cell_type": "code",
   "execution_count": 2,
   "id": "1183e5ac",
   "metadata": {},
   "outputs": [],
   "source": [
    "card = namedtuple(\"card\",['rank', 'suit'])"
   ]
  },
  {
   "cell_type": "code",
   "execution_count": 3,
   "id": "c45e801c",
   "metadata": {},
   "outputs": [],
   "source": [
    "class FrenchDeck():\n",
    "    \n",
    "    ranks = [str(n) for n in range(2,11)] + list('JQKA') \n",
    "    \n",
    "    suites = ['Hearts','Diamonds','Spades','clubs']\n",
    "    \n",
    "    def __init__(self):\n",
    "        self.deck_cards = [card(rank,suite) for rank in FrenchDeck.ranks \n",
    "                                            for suite in FrenchDeck.suites]\n",
    "        \n",
    "    def __len__(self):\n",
    "        return(len(self.deck_cards))\n",
    "    \n",
    "    def __getitem__(self,position):\n",
    "         return(self.deck_cards[position])\n",
    "        \n",
    "    def deck_shuffle(self):\n",
    "        print(\"shuffle begins\")\n",
    "        return(random.shuffle(self.deck_cards))\n",
    "      "
   ]
  },
  {
   "cell_type": "code",
   "execution_count": 4,
   "id": "df5a3255",
   "metadata": {},
   "outputs": [],
   "source": [
    "_deck = FrenchDeck()"
   ]
  },
  {
   "cell_type": "code",
   "execution_count": 5,
   "id": "89e2311f",
   "metadata": {},
   "outputs": [],
   "source": [
    "def is_iterable(obj):\n",
    "    try:\n",
    "        iter(obj)\n",
    "        return True\n",
    "    except TypeError:\n",
    "        return False"
   ]
  },
  {
   "cell_type": "code",
   "execution_count": 6,
   "id": "a35e9f72",
   "metadata": {},
   "outputs": [
    {
     "name": "stdout",
     "output_type": "stream",
     "text": [
      "True\n"
     ]
    }
   ],
   "source": [
    "print(is_iterable(_deck))"
   ]
  },
  {
   "cell_type": "code",
   "execution_count": 7,
   "id": "af380895",
   "metadata": {},
   "outputs": [
    {
     "data": {
      "text/plain": [
       "list"
      ]
     },
     "execution_count": 7,
     "metadata": {},
     "output_type": "execute_result"
    }
   ],
   "source": [
    "type(_deck.deck_cards)"
   ]
  },
  {
   "cell_type": "code",
   "execution_count": null,
   "id": "b90589d5",
   "metadata": {
    "scrolled": true
   },
   "outputs": [
    {
     "ename": "TypeError",
     "evalue": "'FrenchDeck' object does not support item assignment",
     "output_type": "error",
     "traceback": [
      "\u001b[1;31m---------------------------------------------------------------------------\u001b[0m",
      "\u001b[1;31mTypeError\u001b[0m                                 Traceback (most recent call last)",
      "\u001b[1;32m<ipython-input-24-e3915908c7d6>\u001b[0m in \u001b[0;36m<module>\u001b[1;34m\u001b[0m\n\u001b[1;32m----> 1\u001b[1;33m \u001b[0mrandom\u001b[0m\u001b[1;33m.\u001b[0m\u001b[0mshuffle\u001b[0m\u001b[1;33m(\u001b[0m\u001b[0m_deck\u001b[0m\u001b[1;33m)\u001b[0m\u001b[1;33m\u001b[0m\u001b[1;33m\u001b[0m\u001b[0m\n\u001b[0m",
      "\u001b[1;32m~\\anaconda3\\lib\\random.py\u001b[0m in \u001b[0;36mshuffle\u001b[1;34m(self, x, random)\u001b[0m\n\u001b[0;32m    305\u001b[0m                 \u001b[1;31m# pick an element in x[:i+1] with which to exchange x[i]\u001b[0m\u001b[1;33m\u001b[0m\u001b[1;33m\u001b[0m\u001b[1;33m\u001b[0m\u001b[0m\n\u001b[0;32m    306\u001b[0m                 \u001b[0mj\u001b[0m \u001b[1;33m=\u001b[0m \u001b[0mrandbelow\u001b[0m\u001b[1;33m(\u001b[0m\u001b[0mi\u001b[0m\u001b[1;33m+\u001b[0m\u001b[1;36m1\u001b[0m\u001b[1;33m)\u001b[0m\u001b[1;33m\u001b[0m\u001b[1;33m\u001b[0m\u001b[0m\n\u001b[1;32m--> 307\u001b[1;33m                 \u001b[0mx\u001b[0m\u001b[1;33m[\u001b[0m\u001b[0mi\u001b[0m\u001b[1;33m]\u001b[0m\u001b[1;33m,\u001b[0m \u001b[0mx\u001b[0m\u001b[1;33m[\u001b[0m\u001b[0mj\u001b[0m\u001b[1;33m]\u001b[0m \u001b[1;33m=\u001b[0m \u001b[0mx\u001b[0m\u001b[1;33m[\u001b[0m\u001b[0mj\u001b[0m\u001b[1;33m]\u001b[0m\u001b[1;33m,\u001b[0m \u001b[0mx\u001b[0m\u001b[1;33m[\u001b[0m\u001b[0mi\u001b[0m\u001b[1;33m]\u001b[0m\u001b[1;33m\u001b[0m\u001b[1;33m\u001b[0m\u001b[0m\n\u001b[0m\u001b[0;32m    308\u001b[0m         \u001b[1;32melse\u001b[0m\u001b[1;33m:\u001b[0m\u001b[1;33m\u001b[0m\u001b[1;33m\u001b[0m\u001b[0m\n\u001b[0;32m    309\u001b[0m             \u001b[0m_int\u001b[0m \u001b[1;33m=\u001b[0m \u001b[0mint\u001b[0m\u001b[1;33m\u001b[0m\u001b[1;33m\u001b[0m\u001b[0m\n",
      "\u001b[1;31mTypeError\u001b[0m: 'FrenchDeck' object does not support item assignment"
     ]
    }
   ],
   "source": [
    "random.shuffle(_deck)"
   ]
  },
  {
   "cell_type": "code",
   "execution_count": null,
   "id": "a8ddb321",
   "metadata": {},
   "outputs": [],
   "source": []
  }
 ],
 "metadata": {
  "kernelspec": {
   "display_name": "Python 3",
   "language": "python",
   "name": "python3"
  },
  "language_info": {
   "codemirror_mode": {
    "name": "ipython",
    "version": 3
   },
   "file_extension": ".py",
   "mimetype": "text/x-python",
   "name": "python",
   "nbconvert_exporter": "python",
   "pygments_lexer": "ipython3",
   "version": "3.8.8"
  }
 },
 "nbformat": 4,
 "nbformat_minor": 5
}
